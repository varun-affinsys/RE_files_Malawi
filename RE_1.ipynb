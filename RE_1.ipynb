{
 "cells": [
  {
   "cell_type": "code",
   "execution_count": 2,
   "id": "54d1a933",
   "metadata": {},
   "outputs": [
    {
     "name": "stdout",
     "output_type": "stream",
     "text": [
      "20 Sep 2017\n",
      "15 Nov 1995\n",
      "15 Nov 2021\n"
     ]
    }
   ],
   "source": [
    "import re\n",
    "hand = open(r'/home/varunsakunia/Downloads/malawi_cards/1601922289_result.txt')\n",
    "#hand = open(r'/home/varunsakunia/Downloads/malawi_cards/front_photo_rG7Gze2_result.txt')\n",
    "for line in hand:\n",
    "    line = line.rstrip()\n",
    "    if re.findall('\\d{1,2}[\\s-](?:Jan|Feb|Mar|Apr|May|Jun|Jul|Aug|Sep|Oct|Nov|Dec)[\\s-]\\d{4}', line):\n",
    "        print(line)"
   ]
  },
  {
   "cell_type": "code",
   "execution_count": 12,
   "id": "be576a1a",
   "metadata": {},
   "outputs": [
    {
     "name": "stdout",
     "output_type": "stream",
     "text": [
      "M\n"
     ]
    }
   ],
   "source": [
    "import re\n",
    "#hand = open(r'/home/varunsakunia/Downloads/malawi_cards/front_photo_rG7Gze2_result.txt')\n",
    "hand = open(r'/home/varunsakunia/Downloads/malawi_cards/1601922289_result.txt')\n",
    "for line in hand:\n",
    "    #line = line.rstrip()\n",
    "    if re.findall('^[M|F](?=\\s)', line):\n",
    "        print(line.split()[0])"
   ]
  },
  {
   "cell_type": "code",
   "execution_count": 21,
   "id": "beeead60",
   "metadata": {},
   "outputs": [
    {
     "name": "stdout",
     "output_type": "stream",
     "text": [
      "M\n"
     ]
    }
   ],
   "source": [
    "import re\n",
    "#hand = open(r'/home/varunsakunia/Downloads/malawi_cards/front_photo_rG7Gze2_result.txt')\n",
    "hand = open(r'/home/varunsakunia/Downloads/malawi_cards/1601922289_result.txt')\n",
    "for line in hand:\n",
    "    line = line.rstrip()\n",
    "    if re.findall('^[M|F]$', line):\n",
    "        print(line)"
   ]
  },
  {
   "cell_type": "code",
   "execution_count": 4,
   "id": "055a7210",
   "metadata": {},
   "outputs": [
    {
     "name": "stdout",
     "output_type": "stream",
     "text": [
      "VNSEDXX8\n"
     ]
    }
   ],
   "source": [
    "import re\n",
    "hand = open(r'/home/varunsakunia/Downloads/malawi_cards/1601922289_result.txt')\n",
    "pattern = '^\\w+\\d$'\n",
    "for line in hand:\n",
    "    line = line.rstrip()\n",
    "    if re.findall(pattern, line) and len(line) == 8:\n",
    "        print(line)"
   ]
  },
  {
   "cell_type": "code",
   "execution_count": 5,
   "id": "fa1beeba",
   "metadata": {},
   "outputs": [
    {
     "name": "stdout",
     "output_type": "stream",
     "text": [
      "KULAIS|\n",
      "PRECIOUS, FAITH\n"
     ]
    }
   ],
   "source": [
    "import re\n",
    "hand = open(r'/home/varunsakunia/Downloads/malawi_cards/1601922289_result.txt')\n",
    "#hand = open(r'/home/varunsakunia/Downloads/malawi_cards/front_photo_rG7Gze2_result.txt')\n",
    "pattern = r'\\b[A-Z]{2,}\\b'\n",
    "for line in hand:\n",
    "    line = line.rstrip()\n",
    "    if re.findall(pattern, line):\n",
    "        print(line)"
   ]
  },
  {
   "cell_type": "code",
   "execution_count": 6,
   "id": "538fc953",
   "metadata": {},
   "outputs": [],
   "source": [
    "import re\n",
    "hand = open(r'/home/varunsakunia/Downloads/malawi_cards/1601922289_result.txt')\n",
    "#hand = open(r'/home/varunsakunia/Downloads/malawi_cards/front_photo_rG7Gze2_result.txt')\n",
    "pattern = r'\\b[a-z](,-){1,}\\b'\n",
    "for line in hand:\n",
    "    line = line.rstrip()\n",
    "    if re.findall(pattern, line):\n",
    "        print(line)"
   ]
  },
  {
   "cell_type": "code",
   "execution_count": 7,
   "id": "061e98df",
   "metadata": {},
   "outputs": [
    {
     "name": "stdout",
     "output_type": "stream",
     "text": [
      "“=e «Republic of Malawi\n",
      "‘\n",
      "KULAIS|\n",
      "vault iaine\n",
      "PRECIOUS, FAITH\n",
      "mas arnnina Mik az\n",
      "yambaia ya Chiphaso /\n",
      "dentific ation No\n",
      "su Lolandira Chiphaso »\n",
      "ate of issue\n",
      "20 Sep 2017\n",
      "ku Lobadwa\n",
      "Date of Birth\n",
      "15 Nov 1995\n",
      "DOzike Lobadwira /\n",
      "Mv.\n",
      "Tsiku Lothera Chiphaso ~\n",
      "Date of Expiry\n",
      "15 Nov 2021\n",
      "Fer,\n"
     ]
    }
   ],
   "source": [
    "import re\n",
    "hand = open(r'/home/varunsakunia/Downloads/malawi_cards/1601922289_result.txt')\n",
    "#hand = open(r'/home/varunsakunia/Downloads/malawi_cards/front_photo_rG7Gze2_result.txt')\n",
    "pattern = '[^a-zA-Z0-9]'\n",
    "for line in hand:\n",
    "    line = line.rstrip()\n",
    "    if re.findall(pattern, line):\n",
    "        print(line)"
   ]
  },
  {
   "cell_type": "code",
   "execution_count": null,
   "id": "4600adcf",
   "metadata": {},
   "outputs": [],
   "source": [
    "import re\n",
    "\n",
    "class iandmrawanda:\n",
    "\n",
    "    def tesserocr_parser(self, extracted_info):\n",
    "        \"\"\"\n",
    "        Function to parse information for iandmrawanda\n",
    "\n",
    "        :return: results as a dictionary\n",
    "        :rtype: dict\n",
    "        \"\"\"\n",
    "        dates_pattern = '\\d{1,2}[\\s-](?:Jan|Feb|Mar|Apr|May|Jun|Jul|Aug|Sep|Oct|Nov|Dec)[\\s-]\\d{4}'\n",
    "        gender_pattern = '^[M|F]$'\n",
    "        id_pattern = '^\\w+\\d$'\n",
    "        name_pattern = r'\\b[A-Z]{2,}\\b'\n",
    "        dates = []\n",
    "        gender = []\n",
    "        id_num = []\n",
    "        names = []\n",
    "        # print(len(extracted_info))\n",
    "        # print(\"extracted_info={}\".format(extracted_info))\n",
    "        raw_info = extracted_info['raw']\n",
    "        # print(raw_info)\n",
    "        for i in range(0, len(raw_info.keys())):  # one is a named key called recognize\n",
    "            # i = str(i)\n",
    "            textlines = raw_info[i]\n",
    "            textlines = textlines.split(\" \")\n",
    "            for word in textlines:\n",
    "                # remove special characters\n",
    "                word = [character for character in word if character.isalnum()]\n",
    "                word = \"\".join(word)\n",
    "                result = re.match(id_pattern, word)\n",
    "                if result:\n",
    "                    id_number.append(word)\n",
    "                if re.match(name_pattern, word):\n",
    "                    full_name.append(word)\n",
    "\n",
    "        full_name = \" \".join(full_name)\n",
    "        temp_info = {'ID Number': id_number, 'Full Name': full_name}\n",
    "        extracted_info['parsed'] = temp_info\n",
    "        # print(\"tesseract parser = {}\".format(extracted_info))\n",
    "        return extracted_info\n"
   ]
  },
  {
   "cell_type": "code",
   "execution_count": 63,
   "id": "59a2b1c3",
   "metadata": {},
   "outputs": [
    {
     "name": "stdout",
     "output_type": "stream",
     "text": [
      "[]\n",
      "[]\n",
      "[]\n",
      "['KAPHALE', 'KHUMBO']\n"
     ]
    }
   ],
   "source": [
    "dates_pattern = 'd{1,2}[\\s-](?:Jan|Feb|Mar|Apr|May|Jun|Jul|Aug|Sep|Oct|Nov|Dec)[\\s-]\\d{2,4}'\n",
    "gender_pattern = '^[M|F]$'\n",
    "id_pattern = '^\\w+\\d$'\n",
    "name_pattern = r'\\b[A-Z]{2,}\\b'\n",
    "dates = []\n",
    "gender = []\n",
    "id_num = []\n",
    "names = []\n",
    "\n",
    "#hand = open(r'/home/varunsakunia/Downloads/malawi_cards/1601922289_result.txt')\n",
    "hand = open(r'/home/varunsakunia/Downloads/malawi_cards/front_photo_rG7Gze2_result.txt')\n",
    "for textlines in hand:\n",
    "    line = textlines.rstrip()\n",
    "    if re.findall(dates_pattern, line):\n",
    "        dates.append(line)\n",
    "    if re.findall(gender_pattern, line):\n",
    "        gender.append(line.split()[0])\n",
    "    if re.findall(id_pattern, line): # and len(line) == 8:\n",
    "        id_num.append(line)\n",
    "    if re.findall(name_pattern,line):\n",
    "        names.append(line)\n",
    "    \n",
    "    \n",
    "# full_name = \" \".join(full_name)\n",
    "# temp_info = {'ID Number': id_number, 'Full Name': full_name}\n",
    "\n",
    "print(dates)\n",
    "print(gender)\n",
    "print(id_num)\n",
    "print(names)"
   ]
  },
  {
   "cell_type": "code",
   "execution_count": 64,
   "id": "c2b93f81",
   "metadata": {},
   "outputs": [
    {
     "name": "stdout",
     "output_type": "stream",
     "text": [
      "['22 Apr 1996', '4 Nov 2017 22 Apr 2022']\n",
      "[]\n",
      "['MANGOCHE', 'VYESSRTC mw tt']\n",
      "['MANGOCHE', 'CYNTHIA, TIYANJANE', 'VYESSRTC mw tt']\n"
     ]
    }
   ],
   "source": [
    "dates_pattern = '(?:\\d{1,2}[\\s-])(?:Jan|Feb|Mar|Apr|May|Jun|Jul|Aug|Sep|Oct|Nov|Dec)(?:[\\s-]\\d{2,4})'\n",
    "gender_pattern = '^[M|F]$'\n",
    "id_pattern = '^[0-9A-Z$]{8}'\n",
    "name_pattern = r'\\b[A-Z]{2,}\\b'\n",
    "dates = []\n",
    "gender = []\n",
    "id_num = []\n",
    "names = []\n",
    "\n",
    "#hand = open(r'/home/varunsakunia/Downloads/malawi_cards/1601922289_result.txt')\n",
    "#hand = open(r'/home/varunsakunia/Downloads/malawi_cards/front_photo_rG7Gze2_result.txt')\n",
    "hand = open(r'/home/varunsakunia/Downloads/malawi_cards/front_photo_lghFTa6_result.jpg.txt')\n",
    "for textlines in hand:\n",
    "    line = textlines.rstrip()\n",
    "    #print(line)\n",
    "    #print(type(line))\n",
    "    if re.findall(dates_pattern, line):\n",
    "        dates.append(line)\n",
    "    if re.findall(gender_pattern, line):\n",
    "        gender.append(line.split()[0])\n",
    "    if re.findall(id_pattern, line): #and len(line) == 8:\n",
    "        id_num.append(line)\n",
    "    if re.findall(name_pattern,line):\n",
    "        names.append(line)\n",
    "    \n",
    "    \n",
    "# full_name = \" \".join(full_name)\n",
    "# temp_info = {'ID Number': id_number, 'Full Name': full_name}\n",
    "\n",
    "print(dates)\n",
    "print(gender)\n",
    "print(id_num)\n",
    "print(names)"
   ]
  },
  {
   "cell_type": "code",
   "execution_count": 52,
   "id": "2ab3d50e",
   "metadata": {},
   "outputs": [
    {
     "name": "stdout",
     "output_type": "stream",
     "text": [
      "['20 Sep 2017', '15 Nov 1995', '15 Nov 2021']\n",
      "['M']\n",
      "['VNSEDXX8']\n",
      "['KULAIS|', 'PRECIOUS, FAITH']\n"
     ]
    }
   ],
   "source": [
    "dates_pattern = '\\d{1,2}[\\s-](?:Jan|Feb|Mar|Apr|May|Jun|Jul|Aug|Sep|Oct|Nov|Dec)[\\s-]\\d{4}'\n",
    "gender_pattern = '^[M|F]$'\n",
    "id_pattern = '^\\w+\\d$'\n",
    "name_pattern = r'\\b[A-Z]{2,}\\b'\n",
    "dates = []\n",
    "gender = []\n",
    "id_num = []\n",
    "names = []\n",
    "\n",
    "hand = open(r'/home/varunsakunia/Downloads/malawi_cards/1601922289_result.txt')\n",
    "#hand = open(r'/home/varunsakunia/Downloads/malawi_cards/front_photo_rG7Gze2_result.txt')\n",
    "for textlines in hand:\n",
    "    line = textlines.rstrip()\n",
    "    if re.findall(dates_pattern, line):\n",
    "        dates.append(line)\n",
    "    if re.findall(gender_pattern, line):\n",
    "        gender.append(line.split()[0])\n",
    "    if re.findall(id_pattern, line): # and len(line) == 8:\n",
    "        id_num.append(line)\n",
    "    if re.findall(name_pattern,line):\n",
    "        names.append(line)\n",
    "    \n",
    "    \n",
    "# full_name = \" \".join(full_name)\n",
    "# temp_info = {'ID Number': id_number, 'Full Name': full_name}\n",
    "\n",
    "print(dates)\n",
    "print(gender)\n",
    "print(id_num)\n",
    "print(names)"
   ]
  },
  {
   "cell_type": "code",
   "execution_count": 53,
   "id": "3b6f160a",
   "metadata": {},
   "outputs": [
    {
     "data": {
      "text/plain": [
       "['20 Sep 2017', '15 Nov 1995', '15 Nov 2021']"
      ]
     },
     "execution_count": 53,
     "metadata": {},
     "output_type": "execute_result"
    }
   ],
   "source": [
    "dates"
   ]
  },
  {
   "cell_type": "code",
   "execution_count": 56,
   "id": "8c77cc59",
   "metadata": {},
   "outputs": [
    {
     "data": {
      "text/plain": [
       "['15', 'Nov', '1995']"
      ]
     },
     "execution_count": 56,
     "metadata": {},
     "output_type": "execute_result"
    }
   ],
   "source": [
    "d1 = dates[1].split()\n",
    "d1"
   ]
  },
  {
   "cell_type": "code",
   "execution_count": 65,
   "id": "8b23f306",
   "metadata": {},
   "outputs": [
    {
     "name": "stdout",
     "output_type": "stream",
     "text": [
      "M 22 Jun 1993\n",
      "\n",
      "M\n"
     ]
    }
   ],
   "source": [
    "hand = open(r'/home/varunsakunia/Downloads/malawi_cards/front_photo_rG7Gze2_result.txt')\n",
    "#hand = open(r'/home/varunsakunia/Downloads/malawi_cards/1601922289_result.txt')\n",
    "for line in hand:\n",
    "    #line = line.rstrip()\n",
    "    if re.findall('^[M|F](?=\\s)', line):\n",
    "        print(line)\n",
    "        print(line.split()[0])"
   ]
  },
  {
   "cell_type": "code",
   "execution_count": null,
   "id": "232018fc",
   "metadata": {},
   "outputs": [],
   "source": []
  }
 ],
 "metadata": {
  "kernelspec": {
   "display_name": "Python 3 (ipykernel)",
   "language": "python",
   "name": "python3"
  },
  "language_info": {
   "codemirror_mode": {
    "name": "ipython",
    "version": 3
   },
   "file_extension": ".py",
   "mimetype": "text/x-python",
   "name": "python",
   "nbconvert_exporter": "python",
   "pygments_lexer": "ipython3",
   "version": "3.8.10"
  }
 },
 "nbformat": 4,
 "nbformat_minor": 5
}
