{
 "cells": [
  {
   "cell_type": "code",
   "execution_count": 37,
   "id": "36906be6",
   "metadata": {},
   "outputs": [
    {
     "name": "stdout",
     "output_type": "stream",
     "text": [
      "['KULAIS|', 'PRECIOUS,', 'FAITH', 'VNSEDXX8']\n",
      "Surname: KULAIS\n",
      "Name: PRECIOUS\n",
      "Othername: FAITH\n",
      "Id Number: VNSEDXX8\n"
     ]
    }
   ],
   "source": [
    "import re\n",
    "#hand = open(r'/home/varunsakunia/Downloads/malawi_cards/front_photo_rG7Gze2_result.txt')\n",
    "#hand = open(r'/home/varunsakunia/Downloads/malawi_cards/front_photo_lghFTa6_result.jpg.txt')\n",
    "hand = open(r'/home/varunsakunia/Downloads/malawi_cards/1601922289_result.txt')\n",
    "pattern = '\\w[A-Z]{4}\\w'\n",
    "l = []\n",
    "for line in hand:\n",
    "    line = line.rstrip()\n",
    "    if re.findall(pattern, line):\n",
    "        l.append(line)\n",
    "pre = [words for segments in l for words in segments.split()]\n",
    "print(pre)\n",
    "surname = ''.join(e for e in str(pre[0]) if e.isalpha())\n",
    "print(\"Surname:\",surname)\n",
    "name = ''.join(e for e in str(pre[1]) if e.isalpha())\n",
    "print(\"Name:\",name)\n",
    "other_name = ''.join(e for e in str(pre[2]) if e.isalpha())\n",
    "other_name1 = '' if str(pre[2]).isalpha() == False else other_name\n",
    "print(\"Othername:\",other_name1)\n",
    "final = [word for word in pre if len(word) == 8]\n",
    "print(\"Id Number:\",final[-1])"
   ]
  },
  {
   "cell_type": "code",
   "execution_count": 51,
   "id": "b1154737",
   "metadata": {},
   "outputs": [
    {
     "name": "stdout",
     "output_type": "stream",
     "text": [
      "['20 Sep 2017', '15 Nov 1995', '15 Nov 2021']\n",
      "DOB: 15 Nov 1995\n",
      "DOI: 20 Sep 2017\n",
      "DOE: 15 Nov 2021\n"
     ]
    }
   ],
   "source": [
    "#hand = open(r'/home/varunsakunia/Downloads/malawi_cards/front_photo_rG7Gze2_result.txt')\n",
    "#hand = open(r'/home/varunsakunia/Downloads/malawi_cards/front_photo_lghFTa6_result.jpg.txt')\n",
    "hand = open(r'/home/varunsakunia/Downloads/malawi_cards/1601922289_result.txt')\n",
    "dates_pattern = '(?:\\d{1,2}[\\s-])(?:Jan|Feb|Mar|Apr|May|Jun|Jul|Aug|Sep|Oct|Nov|Dec)(?:[\\s-]\\d{2,4})'\n",
    "pattern = '(?:\\d{1,2}[\\s-])(?:Jan|Feb|Mar|Apr|May|Jun|Jul|Aug|Sep|Oct|Nov|Dec)(?:[\\s-]\\d{2,4})'\n",
    "dates = []\n",
    "# line = 'M 4 Nov 2017 22 Apr 2022'\n",
    "for line in hand:\n",
    "    line = line.rstrip()\n",
    "    if re.findall(dates_pattern, line):\n",
    "        results = re.findall(pattern, line)\n",
    "        dates.append(results)\n",
    "#         results = re.findall(pattern, line)\n",
    "# print(results)\n",
    "#print(dates)\n",
    "flat_list = [item for sublist in dates for item in sublist]\n",
    "print(flat_list)\n",
    "dates = flat_list \n",
    "dates.sort(key = lambda date: datetime.strptime(date, '%d %b %Y'))\n",
    "print(\"DOB:\",dates[0])\n",
    "print(\"DOI:\",dates[1])\n",
    "print(\"DOE:\",dates[2])"
   ]
  },
  {
   "cell_type": "code",
   "execution_count": 52,
   "id": "b454353d",
   "metadata": {},
   "outputs": [
    {
     "name": "stdout",
     "output_type": "stream",
     "text": [
      "M 22 Jun 1993\n",
      "\n",
      "M\n"
     ]
    }
   ],
   "source": [
    "hand = open(r'/home/varunsakunia/Downloads/malawi_cards/front_photo_rG7Gze2_result.txt')\n",
    "#hand = open(r'/home/varunsakunia/Downloads/malawi_cards/1601922289_result.txt')\n",
    "for line in hand:\n",
    "    #line = line.rstrip()\n",
    "    if re.findall('^[M|F](?=\\s)', line):\n",
    "        print(line)\n",
    "        print(line.split()[0])"
   ]
  },
  {
   "cell_type": "code",
   "execution_count": 4,
   "id": "e1e21b76",
   "metadata": {},
   "outputs": [
    {
     "name": "stdout",
     "output_type": "stream",
     "text": [
      "['KULAIS|', 'PRECIOUS,', 'FAITH', 'VNSEDXX8']\n",
      "Surname: KULAIS\n",
      "Name: PRECIOUS\n",
      "Othername: FAITH\n",
      "Id Number: VNSEDXX8\n",
      "['20 Sep 2017', '15 Nov 1995', '15 Nov 2021']\n",
      "DOB: 15 Nov 1995\n",
      "DOI: 20 Sep 2017\n",
      "DOE: 15 Nov 2021\n"
     ]
    }
   ],
   "source": [
    "import re\n",
    "from datetime import datetime\n",
    "#hand = open(r'/home/varunsakunia/Downloads/malawi_cards/front_photo_rG7Gze2_result.txt')\n",
    "#hand = open(r'/home/varunsakunia/Downloads/malawi_cards/front_photo_lghFTa6_result.jpg.txt')\n",
    "hand = open(r'/home/varunsakunia/Downloads/malawi_cards/1601922289_result.txt')\n",
    "alpha_pattern = '\\w[A-Z]{4}\\w'\n",
    "l = []\n",
    "for line in hand:\n",
    "    line = line.rstrip()\n",
    "    if re.findall(alpha_pattern, line):\n",
    "        l.append(line)\n",
    "pre = [words for segments in l for words in segments.split()]\n",
    "print(pre)\n",
    "surname = ''.join(e for e in str(pre[0]) if e.isalpha())\n",
    "print(\"Surname:\",surname)\n",
    "name = ''.join(e for e in str(pre[1]) if e.isalpha())\n",
    "print(\"Name:\",name)\n",
    "other_name = ''.join(e for e in str(pre[2]) if e.isalpha())\n",
    "other_name1 = '' if str(pre[2]).isalpha() == False else other_name\n",
    "print(\"Othername:\",other_name1)\n",
    "final = [word for word in pre if len(word) == 8]\n",
    "print(\"Id Number:\",final[-1])\n",
    "\n",
    "#hand = open(r'/home/varunsakunia/Downloads/malawi_cards/front_photo_rG7Gze2_result.txt')\n",
    "#hand = open(r'/home/varunsakunia/Downloads/malawi_cards/front_photo_lghFTa6_result.jpg.txt')\n",
    "hand = open(r'/home/varunsakunia/Downloads/malawi_cards/1601922289_result.txt')\n",
    "dates_pattern = '(?:\\d{1,2}[\\s-])(?:Jan|Feb|Mar|Apr|May|Jun|Jul|Aug|Sep|Oct|Nov|Dec)(?:[\\s-]\\d{2,4})'\n",
    "dates1_pattern = '(?:\\d{1,2}[\\s-])(?:Jan|Feb|Mar|Apr|May|Jun|Jul|Aug|Sep|Oct|Nov|Dec)(?:[\\s-]\\d{2,4})'\n",
    "dates = []\n",
    "# line = 'M 4 Nov 2017 22 Apr 2022'\n",
    "for line in hand:\n",
    "    line = line.rstrip()\n",
    "    if re.findall(dates_pattern, line):\n",
    "        results = re.findall(dates1_pattern, line)\n",
    "        dates.append(results)\n",
    "#         results = re.findall(pattern, line)\n",
    "# print(results)\n",
    "#print(dates)\n",
    "flat_list = [item for sublist in dates for item in sublist]\n",
    "print(flat_list)\n",
    "dates = flat_list \n",
    "dates.sort(key = lambda date: datetime.strptime(date, '%d %b %Y'))\n",
    "print(\"DOB:\",dates[0])\n",
    "print(\"DOI:\",dates[1])\n",
    "print(\"DOE:\",dates[2])"
   ]
  },
  {
   "cell_type": "code",
   "execution_count": 13,
   "id": "4db8a3bc",
   "metadata": {},
   "outputs": [
    {
     "name": "stdout",
     "output_type": "stream",
     "text": [
      "['KULAIS|', 'PRECIOUS,', 'FAITH', 'VNSEDXX8']\n",
      "Surname: KULAIS\n",
      "Name: PRECIOUS\n",
      "Othername: FAITH\n",
      "Id Number: VNSEDXX8\n",
      "['20 Sep 2017', '15 Nov 1995', '15 Nov 2021']\n",
      "DOB: 15 Nov 1995\n",
      "DOI: 20 Sep 2017\n",
      "DOE: 15 Nov 2021\n"
     ]
    }
   ],
   "source": [
    "import re\n",
    "from datetime import datetime\n",
    "\n",
    "#files\n",
    "\n",
    "#hand = open(r'/home/varunsakunia/Downloads/malawi_cards/front_photo_rG7Gze2_result.txt')\n",
    "#hand = open(r'/home/varunsakunia/Downloads/malawi_cards/front_photo_lghFTa6_result.jpg.txt')\n",
    "hand = open(r'/home/varunsakunia/Downloads/malawi_cards/1601922289_result.txt')\n",
    "\n",
    "#patterns\n",
    "\n",
    "alpha_pattern = '\\w[A-Z]{4}\\w'\n",
    "dates_pattern = '(?:\\d{1,2}[\\s-])(?:Jan|Feb|Mar|Apr|May|Jun|Jul|Aug|Sep|Oct|Nov|Dec)(?:[\\s-]\\d{2,4})'\n",
    "dates1_pattern = '(?:\\d{1,2}[\\s-])(?:Jan|Feb|Mar|Apr|May|Jun|Jul|Aug|Sep|Oct|Nov|Dec)(?:[\\s-]\\d{2,4})'\n",
    "\n",
    "word_list = []\n",
    "dates = []\n",
    "for line in hand:\n",
    "    line = line.rstrip()\n",
    "    if re.findall(alpha_pattern, line):\n",
    "        word_list.append(line)\n",
    "    if re.findall(dates_pattern, line):\n",
    "        results = re.findall(dates1_pattern, line)\n",
    "        dates.append(results)\n",
    "        \n",
    "pre = [words for segments in word_list for words in segments.split()]\n",
    "print(pre)\n",
    "surname = ''.join(e for e in str(pre[0]) if e.isalpha())\n",
    "print(\"Surname:\",surname)\n",
    "name = ''.join(e for e in str(pre[1]) if e.isalpha())\n",
    "print(\"Name:\",name)\n",
    "other_name = ''.join(e for e in str(pre[2]) if e.isalpha())\n",
    "other_name1 = '' if str(pre[2]).isalpha() == False else other_name\n",
    "print(\"Othername:\",other_name1)\n",
    "final = [word for word in pre if len(word) == 8]\n",
    "print(\"Id Number:\",final[-1])\n",
    "\n",
    "flat_list = [item for sublist in dates for item in sublist]\n",
    "print(flat_list)\n",
    "dates = flat_list \n",
    "dates.sort(key = lambda date: datetime.strptime(date, '%d %b %Y'))\n",
    "print(\"DOB:\",dates[0])\n",
    "print(\"DOI:\",dates[1])\n",
    "print(\"DOE:\",dates[2])"
   ]
  },
  {
   "cell_type": "code",
   "execution_count": null,
   "id": "ccb72532",
   "metadata": {},
   "outputs": [],
   "source": []
  }
 ],
 "metadata": {
  "kernelspec": {
   "display_name": "Python 3 (ipykernel)",
   "language": "python",
   "name": "python3"
  },
  "language_info": {
   "codemirror_mode": {
    "name": "ipython",
    "version": 3
   },
   "file_extension": ".py",
   "mimetype": "text/x-python",
   "name": "python",
   "nbconvert_exporter": "python",
   "pygments_lexer": "ipython3",
   "version": "3.8.10"
  }
 },
 "nbformat": 4,
 "nbformat_minor": 5
}
