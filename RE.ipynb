{
 "cells": [
  {
   "cell_type": "code",
   "execution_count": 108,
   "id": "91b08904",
   "metadata": {},
   "outputs": [
    {
     "name": "stdout",
     "output_type": "stream",
     "text": [
      "['4 Nov 2017', '22 Apr 2022']\n",
      "2\n"
     ]
    }
   ],
   "source": [
    "import re\n",
    "\n",
    "x = 'januray valo na 14 Feb 2017 valo 11-Jan-2015 anj 1900 puch Janu Feb Jan Mar 15 MMMay-85 anF 15'\n",
    "x1 = '4 Nov 2017 22 Apr 2022'\n",
    "results = re.findall('(?:\\d{1,2}[\\s-])(?:Jan|Feb|Mar|Apr|May|Jun|Jul|Aug|Sep|Oct|Nov|Dec)(?:[\\s-]\\d{2,4})', x1)\n",
    "print(results)\n",
    "print(len(results))"
   ]
  },
  {
   "cell_type": "code",
   "execution_count": 129,
   "id": "1f6c9e5c",
   "metadata": {},
   "outputs": [
    {
     "name": "stdout",
     "output_type": "stream",
     "text": [
      "[['22 Jun 1993'], ['1 Nov 2017', '22 Jun 2021']]\n",
      "['22 Jun 1993', '1 Nov 2017', '22 Jun 2021']\n"
     ]
    }
   ],
   "source": [
    "hand = open(r'/home/varunsakunia/Downloads/malawi_cards/front_photo_rG7Gze2_result.txt')\n",
    "#hand = open(r'/home/varunsakunia/Downloads/malawi_cards/front_photo_lghFTa6_result.jpg.txt')\n",
    "dates_pattern = '(?:\\d{1,2}[\\s-])(?:Jan|Feb|Mar|Apr|May|Jun|Jul|Aug|Sep|Oct|Nov|Dec)(?:[\\s-]\\d{2,4})'\n",
    "pattern = '(?:\\d{1,2}[\\s-])(?:Jan|Feb|Mar|Apr|May|Jun|Jul|Aug|Sep|Oct|Nov|Dec)(?:[\\s-]\\d{2,4})'\n",
    "dates = []\n",
    "# line = 'M 4 Nov 2017 22 Apr 2022'\n",
    "for line in hand:\n",
    "    line = line.rstrip()\n",
    "    if re.findall(dates_pattern, line):\n",
    "        results = re.findall(pattern, line)\n",
    "        dates.append(results)\n",
    "#         results = re.findall(pattern, line)\n",
    "# print(results)\n",
    "print(dates)\n",
    "flat_list = [item for sublist in dates for item in sublist]\n",
    "print(flat_list)"
   ]
  },
  {
   "cell_type": "code",
   "execution_count": 136,
   "id": "2cd95d6f",
   "metadata": {},
   "outputs": [
    {
     "name": "stdout",
     "output_type": "stream",
     "text": [
      "None\n"
     ]
    }
   ],
   "source": [
    "from datetime import datetime\n",
    "final = flat_list.sort(key = lambda date: datetime.strptime(date, '%d %b %Y'))\n",
    "print(final)"
   ]
  },
  {
   "cell_type": "code",
   "execution_count": 139,
   "id": "0cd28e38",
   "metadata": {},
   "outputs": [
    {
     "name": "stdout",
     "output_type": "stream",
     "text": [
      "22 Jun 1993\n",
      "1 Nov 2017\n",
      "22 Jun 2021\n"
     ]
    }
   ],
   "source": [
    "from datetime import datetime\n",
    "    \n",
    "# Function to print the data stored in the list \n",
    "def printDates(dates): \n",
    "   \n",
    "    for i in range(len(dates)):  \n",
    "        print(dates[i]) \n",
    "       \n",
    "       \n",
    "if __name__ == \"__main__\":  \n",
    "  \n",
    "    dates = ['22 Jun 1993', '1 Nov 2017', '22 Jun 2021']  \n",
    "      \n",
    "    # Sort the list in ascending order of dates \n",
    "    dates.sort(key = lambda date: datetime.strptime(date, '%d %b %Y'))\n",
    "    \n",
    "    # Print the dates in a sorted order \n",
    "    printDates(dates) "
   ]
  },
  {
   "cell_type": "code",
   "execution_count": 123,
   "id": "e8ced5f5",
   "metadata": {},
   "outputs": [
    {
     "name": "stdout",
     "output_type": "stream",
     "text": [
      "[['22 Jun 1993'], ['1 Nov 2017', '22 Jun 2021']]\n"
     ]
    },
    {
     "data": {
      "text/plain": [
       "['22 Jun 1993', '1 Nov 2017', '22 Jun 2021']"
      ]
     },
     "execution_count": 123,
     "metadata": {},
     "output_type": "execute_result"
    }
   ],
   "source": [
    "store = []\n",
    "for i in dates:\n",
    "    results = re.findall(pattern,i)\n",
    "    store.append(results)\n",
    "print(store)\n",
    "flat_list = [item for sublist in store for item in sublist]\n",
    "flat_list"
   ]
  },
  {
   "cell_type": "code",
   "execution_count": 242,
   "id": "162a6791",
   "metadata": {},
   "outputs": [
    {
     "name": "stdout",
     "output_type": "stream",
     "text": [
      "20 Sep 2017\n",
      "15 Nov 1995\n",
      "15 Nov 2021\n"
     ]
    }
   ],
   "source": [
    "import re\n",
    "hand = open(r'/home/varunsakunia/Downloads/malawi_cards/1601922289_result.txt')\n",
    "for line in hand:\n",
    "    line = line.rstrip()\n",
    "    if re.findall('\\d{2}[\\s-](?:Jan|Feb|Mar|Apr|May|Jun|Jul|Aug|Sep|Oct|Nov|Dec)[\\s-]\\d{2,4}', line):\n",
    "        print(line)"
   ]
  },
  {
   "cell_type": "code",
   "execution_count": 78,
   "id": "f55b54ba",
   "metadata": {},
   "outputs": [
    {
     "name": "stdout",
     "output_type": "stream",
     "text": [
      "M\n",
      "Mv.\n",
      "Fer,\n"
     ]
    }
   ],
   "source": [
    "import re\n",
    "#hand = open(r'/home/varunsakunia/Downloads/malawi_cards/front_photo_rG7Gze2_result.txt')\n",
    "hand = open(r'/home/varunsakunia/Downloads/malawi_cards/1601922289_result.txt')\n",
    "for line in hand:\n",
    "    line = line.rstrip()\n",
    "    if re.findall('^[M|F]', line):\n",
    "        print(line)\n",
    "# x1 = 'kmgnrgffd;s wfmkmbf qmfgrfnm M smfdm DMksd F gmfdl'\n",
    "# r = re.findall(, x1)\n",
    "# print(r)"
   ]
  },
  {
   "cell_type": "code",
   "execution_count": 235,
   "id": "d37b514c",
   "metadata": {},
   "outputs": [
    {
     "name": "stdout",
     "output_type": "stream",
     "text": [
      "['M', '22', 'Jun', '1993']\n"
     ]
    }
   ],
   "source": [
    "import re\n",
    "hand = open(r'/home/varunsakunia/Downloads/malawi_cards/front_photo_rG7Gze2_result.txt')\n",
    "#hand = open(r'/home/varunsakunia/Downloads/malawi_cards/1601922289_result.txt')\n",
    "for line in hand:\n",
    "    line = line.rstrip()\n",
    "    if re.findall('M(?=\\s)', line):\n",
    "        print(line.split())"
   ]
  },
  {
   "cell_type": "code",
   "execution_count": 142,
   "id": "2d7c0359",
   "metadata": {},
   "outputs": [
    {
     "name": "stdout",
     "output_type": "stream",
     "text": [
      "M\n"
     ]
    }
   ],
   "source": [
    "import re\n",
    "hand = open(r'/home/varunsakunia/Downloads/malawi_cards/front_photo_rG7Gze2_result.txt')\n",
    "#hand = open(r'/home/varunsakunia/Downloads/malawi_cards/1601922289_result.txt')\n",
    "for line in hand:\n",
    "    #line = line.rstrip()\n",
    "    if re.findall('^[M|F](?=\\s)', line):\n",
    "        print(line.split()[0])"
   ]
  },
  {
   "cell_type": "code",
   "execution_count": 103,
   "id": "5b9a3025",
   "metadata": {},
   "outputs": [
    {
     "name": "stdout",
     "output_type": "stream",
     "text": [
      "Found:1 Nov 2017\n"
     ]
    }
   ],
   "source": [
    "import re\n",
    "hand = open(r'/home/varunsakunia/Downloads/malawi_cards/1601922289_result.txt')\n",
    "x = 'januray valo na 14 Feb 2017 valo 11 Jan 2015 anj 1900 puch Janu Feb Jan Mar 15 MMMay-85 anF 15'\n",
    "x1 = '1 Nov 2017 22 Jun 2021'\n",
    "phoneNumRegex = re.compile(r'(\\d{1,2}[\\s-])(?:Jan|Feb|Mar|Apr|May|Jun|Jul|Aug|Sep|Oct|Nov|Dec)([\\s-]\\d{2,4})')\n",
    "# for line in hand:\n",
    "#     #line = line.rstrip()\n",
    "mo = phoneNumRegex.search(x1)\n",
    "print('Found:' + mo.group())"
   ]
  },
  {
   "cell_type": "code",
   "execution_count": 263,
   "id": "8295ae3f",
   "metadata": {},
   "outputs": [
    {
     "data": {
      "text/plain": [
       "<callable_iterator at 0x7f3024047280>"
      ]
     },
     "execution_count": 263,
     "metadata": {},
     "output_type": "execute_result"
    }
   ],
   "source": [
    "x = 'januray valo na 14 Feb 2017 valo 11 Jan 2015 anj 1900 puch Janu Feb Jan Mar 15 MMMay-85 anF 15'\n",
    "phoneNumRegex = re.match('\\d{2}[\\s-](?:Jan|Feb|Mar|Apr|May|Jun|Jul|Aug|Sep|Oct|Nov|Dec)[\\s-]\\d{2,4}',x)\n",
    "phoneNumRegex"
   ]
  },
  {
   "cell_type": "code",
   "execution_count": 31,
   "id": "525aa403",
   "metadata": {},
   "outputs": [
    {
     "name": "stdout",
     "output_type": "stream",
     "text": [
      "VNSEDXX8\n"
     ]
    }
   ],
   "source": [
    "import re\n",
    "#hand = open(r'/home/varunsakunia/Downloads/malawi_cards/front_photo_rG7Gze2_result.txt')\n",
    "#hand = open(r'/home/varunsakunia/Downloads/malawi_cards/front_photo_lghFTa6_result.jpg.txt')\n",
    "hand = open(r'/home/varunsakunia/Downloads/malawi_cards/1601922289_result.txt')\n",
    "pattern = '((?![A-Za-z]{8}|[0-9]{8})[0-9A-Z]{8})'\n",
    "for line in hand:\n",
    "    line = line.rstrip()\n",
    "    if re.findall(pattern, line):\n",
    "        print(line)"
   ]
  },
  {
   "cell_type": "code",
   "execution_count": 87,
   "id": "e61dcb50",
   "metadata": {},
   "outputs": [
    {
     "name": "stdout",
     "output_type": "stream",
     "text": [
      "['KULAIS|', 'PRECIOUS,', 'FAITH', 'VNSEDXX8']\n",
      "Surname: KULAIS\n",
      "Name: PRECIOUS\n",
      "Othername: FAITH\n",
      "Id Number: VNSEDXX8\n"
     ]
    }
   ],
   "source": [
    "import re\n",
    "#hand = open(r'/home/varunsakunia/Downloads/malawi_cards/front_photo_rG7Gze2_result.txt')\n",
    "#hand = open(r'/home/varunsakunia/Downloads/malawi_cards/front_photo_lghFTa6_result.jpg.txt')\n",
    "hand = open(r'/home/varunsakunia/Downloads/malawi_cards/1601922289_result.txt')\n",
    "pattern = '\\w[A-Z]{4}\\w'\n",
    "l = []\n",
    "for line in hand:\n",
    "    line = line.rstrip()\n",
    "    if re.findall(pattern, line):\n",
    "        l.append(line)\n",
    "pre = [words for segments in l for words in segments.split()]\n",
    "print(pre)\n",
    "surname = ''.join(e for e in str(pre[0]) if e.isalpha())\n",
    "print(\"Surname:\",surname)\n",
    "name = ''.join(e for e in str(pre[1]) if e.isalpha())\n",
    "print(\"Name:\",name)\n",
    "other_name = ''.join(e for e in str(pre[2]) if e.isalpha())\n",
    "print(\"Othername:\",other_name)\n",
    "final = [word for word in pre if len(word) == 8]\n",
    "print(\"Id Number:\",final[-1])"
   ]
  },
  {
   "cell_type": "code",
   "execution_count": 88,
   "id": "19941c72",
   "metadata": {},
   "outputs": [
    {
     "name": "stdout",
     "output_type": "stream",
     "text": [
      "['MANGOCHE', 'CYNTHIA,', 'TIYANJANE', 'VYESSRTC', 'mw', 'tt']\n",
      "Surname: MANGOCHE\n",
      "Name: CYNTHIA\n",
      "Othername: TIYANJANE\n",
      "Id Number: VYESSRTC\n"
     ]
    }
   ],
   "source": [
    "import re\n",
    "hand = open(r'/home/varunsakunia/Downloads/malawi_cards/front_photo_lghFTa6_result.jpg.txt')\n",
    "pattern = '\\w[A-Z]{4}\\w'\n",
    "l = []\n",
    "for line in hand:\n",
    "    line = line.rstrip()\n",
    "    if re.findall(pattern, line):\n",
    "        l.append(line)\n",
    "        \n",
    "pre = [words for segments in l for words in segments.split()]\n",
    "print(pre)\n",
    "surname = ''.join(e for e in str(pre[0]) if e.isalpha())\n",
    "print(\"Surname:\",surname)\n",
    "name = ''.join(e for e in str(pre[1]) if e.isalpha())\n",
    "print(\"Name:\",name)\n",
    "other_name = ''.join(e for e in str(pre[2]) if e.isalpha())\n",
    "print(\"Othername:\",other_name)\n",
    "final = [word for word in pre if len(word) == 8]\n",
    "print(\"Id Number:\",final[-1])"
   ]
  },
  {
   "cell_type": "code",
   "execution_count": 90,
   "id": "1949e5c9",
   "metadata": {},
   "outputs": [
    {
     "name": "stdout",
     "output_type": "stream",
     "text": [
      "['KAPHALE', 'KHUMBO', 'V2PPSE3W', 'MwWI']\n",
      "Surname: KAPHALE\n",
      "Name: KHUMBO\n",
      "Othername: \n",
      "Id Number: V2PPSE3W\n"
     ]
    }
   ],
   "source": [
    "import re\n",
    "hand = open(r'/home/varunsakunia/Downloads/malawi_cards/front_photo_rG7Gze2_result.txt')\n",
    "pattern = '\\w[A-Z]{4}\\w'\n",
    "l = []\n",
    "for line in hand:\n",
    "    line = line.rstrip()\n",
    "    if re.findall(pattern, line):\n",
    "        l.append(line)\n",
    "pre = [words for segments in l for words in segments.split()]\n",
    "print(pre)\n",
    "surname = ''.join(e for e in str(pre[0]) if e.isalpha())\n",
    "print(\"Surname:\",surname)\n",
    "name = ''.join(e for e in str(pre[1]) if e.isalpha())\n",
    "print(\"Name:\",name)\n",
    "other_name = ''.join(e for e in str(pre[2]) if not e.isalnum())\n",
    "print(\"Othername:\",other_name)\n",
    "final = [word for word in pre if len(word) == 8]\n",
    "print(\"Id Number:\",final[-1])"
   ]
  },
  {
   "cell_type": "code",
   "execution_count": null,
   "id": "461e91c5",
   "metadata": {},
   "outputs": [],
   "source": [
    "import re\n",
    "re1 = r'\\d+\\.\\d*[L][-]\\d*\\s[A-Z]*[/]\\d*'\n",
    "re2 = '\\d*[/]\\d*[A-Z]*\\d*\\s[A-Z]*\\d*[A-Z]*'\n",
    "re3 = '[A-Z]*\\d+[/]\\d+[A-Z]\\d+'\n",
    "re4 = '\\d+[/]\\d+[A-Z]*\\d+\\s\\d+[A-Z]\\s[A-Z]*'\n",
    "\n",
    "sentences = [string1, string2, string3, string4]\n",
    "for sentence in sentences:\n",
    "    generic_re = re.compile(\"(%s|%s|%s|%s)\" % (re1, re2, re3, re4)).findall(sentence)"
   ]
  }
 ],
 "metadata": {
  "kernelspec": {
   "display_name": "Python 3 (ipykernel)",
   "language": "python",
   "name": "python3"
  },
  "language_info": {
   "codemirror_mode": {
    "name": "ipython",
    "version": 3
   },
   "file_extension": ".py",
   "mimetype": "text/x-python",
   "name": "python",
   "nbconvert_exporter": "python",
   "pygments_lexer": "ipython3",
   "version": "3.8.10"
  }
 },
 "nbformat": 4,
 "nbformat_minor": 5
}
